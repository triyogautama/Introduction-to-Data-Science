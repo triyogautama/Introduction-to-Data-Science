{
 "cells": [
  {
   "cell_type": "markdown",
   "source": [
    "## Instruction;\n",
    "1. target; is_safe\n",
    "2. feature; ammonia, lead, baterias, viruses, nitrates, uranium\n",
    "3. Missing value treatment \n",
    "4. Multicollinearty checking\n",
    "5. Data split to train:test = 80% : 20%, random_state=0, stratify=y\n",
    "6. Create model, test the accuracy of the model to predict"
   ],
   "metadata": {}
  },
  {
   "cell_type": "code",
   "execution_count": 2,
   "source": [
    "import numpy as np\n",
    "import pandas as pd"
   ],
   "outputs": [],
   "metadata": {}
  },
  {
   "cell_type": "code",
   "execution_count": 15,
   "source": [
    "import matplotlib.pyplot as plt\n",
    "import seaborn as sns\n",
    "import statsmodels.api as sm\n",
    "\n",
    "from statsmodels.stats.outliers_influence import variance_inflation_factor # to calculate VIF value\n",
    "\n",
    "from sklearn.model_selection import train_test_split # to split dataset randomly\n",
    "from sklearn.metrics import accuracy_score # to calculate the accuracy score\n",
    "\n",
    "import warnings\n",
    "warnings.filterwarnings(\"ignore\") # to remove warning when running cell"
   ],
   "outputs": [],
   "metadata": {}
  },
  {
   "cell_type": "code",
   "execution_count": 16,
   "source": [
    "df = pd.read_csv('waterQuality1.csv')\n",
    "df.head()"
   ],
   "outputs": [
    {
     "output_type": "execute_result",
     "data": {
      "text/html": [
       "<div>\n",
       "<style scoped>\n",
       "    .dataframe tbody tr th:only-of-type {\n",
       "        vertical-align: middle;\n",
       "    }\n",
       "\n",
       "    .dataframe tbody tr th {\n",
       "        vertical-align: top;\n",
       "    }\n",
       "\n",
       "    .dataframe thead th {\n",
       "        text-align: right;\n",
       "    }\n",
       "</style>\n",
       "<table border=\"1\" class=\"dataframe\">\n",
       "  <thead>\n",
       "    <tr style=\"text-align: right;\">\n",
       "      <th></th>\n",
       "      <th>aluminium</th>\n",
       "      <th>ammonia</th>\n",
       "      <th>arsenic</th>\n",
       "      <th>barium</th>\n",
       "      <th>cadmium</th>\n",
       "      <th>chloramine</th>\n",
       "      <th>chromium</th>\n",
       "      <th>copper</th>\n",
       "      <th>flouride</th>\n",
       "      <th>bacteria</th>\n",
       "      <th>...</th>\n",
       "      <th>lead</th>\n",
       "      <th>nitrates</th>\n",
       "      <th>nitrites</th>\n",
       "      <th>mercury</th>\n",
       "      <th>perchlorate</th>\n",
       "      <th>radium</th>\n",
       "      <th>selenium</th>\n",
       "      <th>silver</th>\n",
       "      <th>uranium</th>\n",
       "      <th>is_safe</th>\n",
       "    </tr>\n",
       "  </thead>\n",
       "  <tbody>\n",
       "    <tr>\n",
       "      <th>0</th>\n",
       "      <td>1.65</td>\n",
       "      <td>9.08</td>\n",
       "      <td>0.04</td>\n",
       "      <td>2.85</td>\n",
       "      <td>0.007</td>\n",
       "      <td>0.35</td>\n",
       "      <td>0.83</td>\n",
       "      <td>0.17</td>\n",
       "      <td>0.05</td>\n",
       "      <td>0.20</td>\n",
       "      <td>...</td>\n",
       "      <td>0.054</td>\n",
       "      <td>16.08</td>\n",
       "      <td>1.13</td>\n",
       "      <td>0.007</td>\n",
       "      <td>37.75</td>\n",
       "      <td>6.78</td>\n",
       "      <td>0.08</td>\n",
       "      <td>0.34</td>\n",
       "      <td>0.02</td>\n",
       "      <td>1</td>\n",
       "    </tr>\n",
       "    <tr>\n",
       "      <th>1</th>\n",
       "      <td>2.32</td>\n",
       "      <td>21.16</td>\n",
       "      <td>0.01</td>\n",
       "      <td>3.31</td>\n",
       "      <td>0.002</td>\n",
       "      <td>5.28</td>\n",
       "      <td>0.68</td>\n",
       "      <td>0.66</td>\n",
       "      <td>0.90</td>\n",
       "      <td>0.65</td>\n",
       "      <td>...</td>\n",
       "      <td>0.100</td>\n",
       "      <td>2.01</td>\n",
       "      <td>1.93</td>\n",
       "      <td>0.003</td>\n",
       "      <td>32.26</td>\n",
       "      <td>3.21</td>\n",
       "      <td>0.08</td>\n",
       "      <td>0.27</td>\n",
       "      <td>0.05</td>\n",
       "      <td>1</td>\n",
       "    </tr>\n",
       "    <tr>\n",
       "      <th>2</th>\n",
       "      <td>1.01</td>\n",
       "      <td>14.02</td>\n",
       "      <td>0.04</td>\n",
       "      <td>0.58</td>\n",
       "      <td>0.008</td>\n",
       "      <td>4.24</td>\n",
       "      <td>0.53</td>\n",
       "      <td>0.02</td>\n",
       "      <td>0.99</td>\n",
       "      <td>0.05</td>\n",
       "      <td>...</td>\n",
       "      <td>0.078</td>\n",
       "      <td>14.16</td>\n",
       "      <td>1.11</td>\n",
       "      <td>0.006</td>\n",
       "      <td>50.28</td>\n",
       "      <td>7.07</td>\n",
       "      <td>0.07</td>\n",
       "      <td>0.44</td>\n",
       "      <td>0.01</td>\n",
       "      <td>0</td>\n",
       "    </tr>\n",
       "    <tr>\n",
       "      <th>3</th>\n",
       "      <td>1.36</td>\n",
       "      <td>11.33</td>\n",
       "      <td>0.04</td>\n",
       "      <td>2.96</td>\n",
       "      <td>0.001</td>\n",
       "      <td>7.23</td>\n",
       "      <td>0.03</td>\n",
       "      <td>1.66</td>\n",
       "      <td>1.08</td>\n",
       "      <td>0.71</td>\n",
       "      <td>...</td>\n",
       "      <td>0.016</td>\n",
       "      <td>1.41</td>\n",
       "      <td>1.29</td>\n",
       "      <td>0.004</td>\n",
       "      <td>9.12</td>\n",
       "      <td>1.72</td>\n",
       "      <td>0.02</td>\n",
       "      <td>0.45</td>\n",
       "      <td>0.05</td>\n",
       "      <td>1</td>\n",
       "    </tr>\n",
       "    <tr>\n",
       "      <th>4</th>\n",
       "      <td>0.92</td>\n",
       "      <td>24.33</td>\n",
       "      <td>0.03</td>\n",
       "      <td>0.20</td>\n",
       "      <td>0.006</td>\n",
       "      <td>2.67</td>\n",
       "      <td>0.69</td>\n",
       "      <td>0.57</td>\n",
       "      <td>0.61</td>\n",
       "      <td>0.13</td>\n",
       "      <td>...</td>\n",
       "      <td>0.117</td>\n",
       "      <td>6.74</td>\n",
       "      <td>1.11</td>\n",
       "      <td>0.003</td>\n",
       "      <td>16.90</td>\n",
       "      <td>2.41</td>\n",
       "      <td>0.02</td>\n",
       "      <td>0.06</td>\n",
       "      <td>0.02</td>\n",
       "      <td>1</td>\n",
       "    </tr>\n",
       "  </tbody>\n",
       "</table>\n",
       "<p>5 rows × 21 columns</p>\n",
       "</div>"
      ],
      "text/plain": [
       "   aluminium ammonia  arsenic  barium  cadmium  chloramine  chromium  copper  \\\n",
       "0       1.65    9.08     0.04    2.85    0.007        0.35      0.83    0.17   \n",
       "1       2.32   21.16     0.01    3.31    0.002        5.28      0.68    0.66   \n",
       "2       1.01   14.02     0.04    0.58    0.008        4.24      0.53    0.02   \n",
       "3       1.36   11.33     0.04    2.96    0.001        7.23      0.03    1.66   \n",
       "4       0.92   24.33     0.03    0.20    0.006        2.67      0.69    0.57   \n",
       "\n",
       "   flouride  bacteria  ...   lead  nitrates  nitrites  mercury  perchlorate  \\\n",
       "0      0.05      0.20  ...  0.054     16.08      1.13    0.007        37.75   \n",
       "1      0.90      0.65  ...  0.100      2.01      1.93    0.003        32.26   \n",
       "2      0.99      0.05  ...  0.078     14.16      1.11    0.006        50.28   \n",
       "3      1.08      0.71  ...  0.016      1.41      1.29    0.004         9.12   \n",
       "4      0.61      0.13  ...  0.117      6.74      1.11    0.003        16.90   \n",
       "\n",
       "   radium  selenium  silver  uranium  is_safe  \n",
       "0    6.78      0.08    0.34     0.02        1  \n",
       "1    3.21      0.08    0.27     0.05        1  \n",
       "2    7.07      0.07    0.44     0.01        0  \n",
       "3    1.72      0.02    0.45     0.05        1  \n",
       "4    2.41      0.02    0.06     0.02        1  \n",
       "\n",
       "[5 rows x 21 columns]"
      ]
     },
     "metadata": {},
     "execution_count": 16
    }
   ],
   "metadata": {}
  },
  {
   "cell_type": "markdown",
   "source": [
    "### Description\n",
    "\n",
    "All attributes are numeric variables and they are listed bellow:\n",
    "\n",
    "1. aluminium - dangerous if greater than 2.8\n",
    "2. ammonia - dangerous if greater than 32.5\n",
    "3. arsenic - dangerous if greater than 0.01\n",
    "4. barium - dangerous if greater than 2\n",
    "5. cadmium - dangerous if greater than 0.005\n",
    "6. chloramine - dangerous if greater than 4\n",
    "7. chromium - dangerous if greater than 0.1\n",
    "8. copper - dangerous if greater than 1.3\n",
    "9. flouride - dangerous if greater than 1.5\n",
    "10. bacteria - dangerous if greater than 0\n",
    "11. viruses - dangerous if greater than 0\n",
    "12. lead - dangerous if greater than 0.015\n",
    "13. nitrates - dangerous if greater than 10\n",
    "14. nitrites - dangerous if greater than 1\n",
    "15. mercury - dangerous if greater than 0.002\n",
    "16. perchlorate - dangerous if greater than 56\n",
    "17. radium - dangerous if greater than 5\n",
    "18. selenium - dangerous if greater than 0.5\n",
    "19. silver - dangerous if greater than 0.1\n",
    "20. uranium - dangerous if greater than 0.3\n",
    "21. is_safe - class attribute {0 - not safe, 1 - safe}\n",
    "\n",
    "dataset taken from kaggle; https://www.kaggle.com/mssmartypants/water-quality"
   ],
   "metadata": {}
  },
  {
   "cell_type": "code",
   "execution_count": 20,
   "source": [
    "df = df[['ammonia', 'lead', 'bacteria', 'viruses', 'nitrates', 'uranium', 'is_safe']]\n",
    "df.head()"
   ],
   "outputs": [
    {
     "output_type": "execute_result",
     "data": {
      "text/html": [
       "<div>\n",
       "<style scoped>\n",
       "    .dataframe tbody tr th:only-of-type {\n",
       "        vertical-align: middle;\n",
       "    }\n",
       "\n",
       "    .dataframe tbody tr th {\n",
       "        vertical-align: top;\n",
       "    }\n",
       "\n",
       "    .dataframe thead th {\n",
       "        text-align: right;\n",
       "    }\n",
       "</style>\n",
       "<table border=\"1\" class=\"dataframe\">\n",
       "  <thead>\n",
       "    <tr style=\"text-align: right;\">\n",
       "      <th></th>\n",
       "      <th>ammonia</th>\n",
       "      <th>lead</th>\n",
       "      <th>bacteria</th>\n",
       "      <th>viruses</th>\n",
       "      <th>nitrates</th>\n",
       "      <th>uranium</th>\n",
       "      <th>is_safe</th>\n",
       "    </tr>\n",
       "  </thead>\n",
       "  <tbody>\n",
       "    <tr>\n",
       "      <th>0</th>\n",
       "      <td>9.08</td>\n",
       "      <td>0.054</td>\n",
       "      <td>0.20</td>\n",
       "      <td>0.000</td>\n",
       "      <td>16.08</td>\n",
       "      <td>0.02</td>\n",
       "      <td>1</td>\n",
       "    </tr>\n",
       "    <tr>\n",
       "      <th>1</th>\n",
       "      <td>21.16</td>\n",
       "      <td>0.100</td>\n",
       "      <td>0.65</td>\n",
       "      <td>0.650</td>\n",
       "      <td>2.01</td>\n",
       "      <td>0.05</td>\n",
       "      <td>1</td>\n",
       "    </tr>\n",
       "    <tr>\n",
       "      <th>2</th>\n",
       "      <td>14.02</td>\n",
       "      <td>0.078</td>\n",
       "      <td>0.05</td>\n",
       "      <td>0.003</td>\n",
       "      <td>14.16</td>\n",
       "      <td>0.01</td>\n",
       "      <td>0</td>\n",
       "    </tr>\n",
       "    <tr>\n",
       "      <th>3</th>\n",
       "      <td>11.33</td>\n",
       "      <td>0.016</td>\n",
       "      <td>0.71</td>\n",
       "      <td>0.710</td>\n",
       "      <td>1.41</td>\n",
       "      <td>0.05</td>\n",
       "      <td>1</td>\n",
       "    </tr>\n",
       "    <tr>\n",
       "      <th>4</th>\n",
       "      <td>24.33</td>\n",
       "      <td>0.117</td>\n",
       "      <td>0.13</td>\n",
       "      <td>0.001</td>\n",
       "      <td>6.74</td>\n",
       "      <td>0.02</td>\n",
       "      <td>1</td>\n",
       "    </tr>\n",
       "  </tbody>\n",
       "</table>\n",
       "</div>"
      ],
      "text/plain": [
       "  ammonia   lead  bacteria  viruses  nitrates  uranium is_safe\n",
       "0    9.08  0.054      0.20    0.000     16.08     0.02       1\n",
       "1   21.16  0.100      0.65    0.650      2.01     0.05       1\n",
       "2   14.02  0.078      0.05    0.003     14.16     0.01       0\n",
       "3   11.33  0.016      0.71    0.710      1.41     0.05       1\n",
       "4   24.33  0.117      0.13    0.001      6.74     0.02       1"
      ]
     },
     "metadata": {},
     "execution_count": 20
    }
   ],
   "metadata": {}
  },
  {
   "cell_type": "markdown",
   "source": [
    "#### Analyze the correlation of lead to the quality of water"
   ],
   "metadata": {}
  },
  {
   "cell_type": "code",
   "execution_count": 21,
   "source": [
    "df[['ammonia', 'lead', 'bacteria', 'viruses', 'nitrates', 'uranium', 'is_safe']].describe(include='all') ## Include all because the is_safe column's datatypes is object"
   ],
   "outputs": [
    {
     "output_type": "execute_result",
     "data": {
      "text/html": [
       "<div>\n",
       "<style scoped>\n",
       "    .dataframe tbody tr th:only-of-type {\n",
       "        vertical-align: middle;\n",
       "    }\n",
       "\n",
       "    .dataframe tbody tr th {\n",
       "        vertical-align: top;\n",
       "    }\n",
       "\n",
       "    .dataframe thead th {\n",
       "        text-align: right;\n",
       "    }\n",
       "</style>\n",
       "<table border=\"1\" class=\"dataframe\">\n",
       "  <thead>\n",
       "    <tr style=\"text-align: right;\">\n",
       "      <th></th>\n",
       "      <th>ammonia</th>\n",
       "      <th>lead</th>\n",
       "      <th>bacteria</th>\n",
       "      <th>viruses</th>\n",
       "      <th>nitrates</th>\n",
       "      <th>uranium</th>\n",
       "      <th>is_safe</th>\n",
       "    </tr>\n",
       "  </thead>\n",
       "  <tbody>\n",
       "    <tr>\n",
       "      <th>count</th>\n",
       "      <td>7999</td>\n",
       "      <td>7999.000000</td>\n",
       "      <td>7999.000000</td>\n",
       "      <td>7999.000000</td>\n",
       "      <td>7999.000000</td>\n",
       "      <td>7999.000000</td>\n",
       "      <td>7999</td>\n",
       "    </tr>\n",
       "    <tr>\n",
       "      <th>unique</th>\n",
       "      <td>2564</td>\n",
       "      <td>NaN</td>\n",
       "      <td>NaN</td>\n",
       "      <td>NaN</td>\n",
       "      <td>NaN</td>\n",
       "      <td>NaN</td>\n",
       "      <td>3</td>\n",
       "    </tr>\n",
       "    <tr>\n",
       "      <th>top</th>\n",
       "      <td>0.17</td>\n",
       "      <td>NaN</td>\n",
       "      <td>NaN</td>\n",
       "      <td>NaN</td>\n",
       "      <td>NaN</td>\n",
       "      <td>NaN</td>\n",
       "      <td>0</td>\n",
       "    </tr>\n",
       "    <tr>\n",
       "      <th>freq</th>\n",
       "      <td>13</td>\n",
       "      <td>NaN</td>\n",
       "      <td>NaN</td>\n",
       "      <td>NaN</td>\n",
       "      <td>NaN</td>\n",
       "      <td>NaN</td>\n",
       "      <td>7084</td>\n",
       "    </tr>\n",
       "    <tr>\n",
       "      <th>mean</th>\n",
       "      <td>NaN</td>\n",
       "      <td>0.099450</td>\n",
       "      <td>0.319665</td>\n",
       "      <td>0.328583</td>\n",
       "      <td>9.818822</td>\n",
       "      <td>0.044673</td>\n",
       "      <td>NaN</td>\n",
       "    </tr>\n",
       "    <tr>\n",
       "      <th>std</th>\n",
       "      <td>NaN</td>\n",
       "      <td>0.058172</td>\n",
       "      <td>0.329485</td>\n",
       "      <td>0.378096</td>\n",
       "      <td>5.541331</td>\n",
       "      <td>0.026904</td>\n",
       "      <td>NaN</td>\n",
       "    </tr>\n",
       "    <tr>\n",
       "      <th>min</th>\n",
       "      <td>NaN</td>\n",
       "      <td>0.000000</td>\n",
       "      <td>0.000000</td>\n",
       "      <td>0.000000</td>\n",
       "      <td>0.000000</td>\n",
       "      <td>0.000000</td>\n",
       "      <td>NaN</td>\n",
       "    </tr>\n",
       "    <tr>\n",
       "      <th>25%</th>\n",
       "      <td>NaN</td>\n",
       "      <td>0.048000</td>\n",
       "      <td>0.000000</td>\n",
       "      <td>0.002000</td>\n",
       "      <td>5.000000</td>\n",
       "      <td>0.020000</td>\n",
       "      <td>NaN</td>\n",
       "    </tr>\n",
       "    <tr>\n",
       "      <th>50%</th>\n",
       "      <td>NaN</td>\n",
       "      <td>0.102000</td>\n",
       "      <td>0.220000</td>\n",
       "      <td>0.008000</td>\n",
       "      <td>9.930000</td>\n",
       "      <td>0.050000</td>\n",
       "      <td>NaN</td>\n",
       "    </tr>\n",
       "    <tr>\n",
       "      <th>75%</th>\n",
       "      <td>NaN</td>\n",
       "      <td>0.151000</td>\n",
       "      <td>0.610000</td>\n",
       "      <td>0.700000</td>\n",
       "      <td>14.610000</td>\n",
       "      <td>0.070000</td>\n",
       "      <td>NaN</td>\n",
       "    </tr>\n",
       "    <tr>\n",
       "      <th>max</th>\n",
       "      <td>NaN</td>\n",
       "      <td>0.200000</td>\n",
       "      <td>1.000000</td>\n",
       "      <td>1.000000</td>\n",
       "      <td>19.830000</td>\n",
       "      <td>0.090000</td>\n",
       "      <td>NaN</td>\n",
       "    </tr>\n",
       "  </tbody>\n",
       "</table>\n",
       "</div>"
      ],
      "text/plain": [
       "       ammonia         lead     bacteria      viruses     nitrates  \\\n",
       "count     7999  7999.000000  7999.000000  7999.000000  7999.000000   \n",
       "unique    2564          NaN          NaN          NaN          NaN   \n",
       "top       0.17          NaN          NaN          NaN          NaN   \n",
       "freq        13          NaN          NaN          NaN          NaN   \n",
       "mean       NaN     0.099450     0.319665     0.328583     9.818822   \n",
       "std        NaN     0.058172     0.329485     0.378096     5.541331   \n",
       "min        NaN     0.000000     0.000000     0.000000     0.000000   \n",
       "25%        NaN     0.048000     0.000000     0.002000     5.000000   \n",
       "50%        NaN     0.102000     0.220000     0.008000     9.930000   \n",
       "75%        NaN     0.151000     0.610000     0.700000    14.610000   \n",
       "max        NaN     0.200000     1.000000     1.000000    19.830000   \n",
       "\n",
       "            uranium is_safe  \n",
       "count   7999.000000    7999  \n",
       "unique          NaN       3  \n",
       "top             NaN       0  \n",
       "freq            NaN    7084  \n",
       "mean       0.044673     NaN  \n",
       "std        0.026904     NaN  \n",
       "min        0.000000     NaN  \n",
       "25%        0.020000     NaN  \n",
       "50%        0.050000     NaN  \n",
       "75%        0.070000     NaN  \n",
       "max        0.090000     NaN  "
      ]
     },
     "metadata": {},
     "execution_count": 21
    }
   ],
   "metadata": {}
  },
  {
   "cell_type": "markdown",
   "source": [
    "#### EDA"
   ],
   "metadata": {}
  },
  {
   "cell_type": "code",
   "execution_count": 23,
   "source": [
    "df.isna().sum()"
   ],
   "outputs": [
    {
     "output_type": "execute_result",
     "data": {
      "text/plain": [
       "ammonia     0\n",
       "lead        0\n",
       "bacteria    0\n",
       "viruses     0\n",
       "nitrates    0\n",
       "uranium     0\n",
       "is_safe     0\n",
       "dtype: int64"
      ]
     },
     "metadata": {},
     "execution_count": 23
    }
   ],
   "metadata": {}
  },
  {
   "cell_type": "code",
   "execution_count": 24,
   "source": [
    "df[df['is_safe']=='#NUM!']"
   ],
   "outputs": [
    {
     "output_type": "execute_result",
     "data": {
      "text/html": [
       "<div>\n",
       "<style scoped>\n",
       "    .dataframe tbody tr th:only-of-type {\n",
       "        vertical-align: middle;\n",
       "    }\n",
       "\n",
       "    .dataframe tbody tr th {\n",
       "        vertical-align: top;\n",
       "    }\n",
       "\n",
       "    .dataframe thead th {\n",
       "        text-align: right;\n",
       "    }\n",
       "</style>\n",
       "<table border=\"1\" class=\"dataframe\">\n",
       "  <thead>\n",
       "    <tr style=\"text-align: right;\">\n",
       "      <th></th>\n",
       "      <th>ammonia</th>\n",
       "      <th>lead</th>\n",
       "      <th>bacteria</th>\n",
       "      <th>viruses</th>\n",
       "      <th>nitrates</th>\n",
       "      <th>uranium</th>\n",
       "      <th>is_safe</th>\n",
       "    </tr>\n",
       "  </thead>\n",
       "  <tbody>\n",
       "    <tr>\n",
       "      <th>7551</th>\n",
       "      <td>#NUM!</td>\n",
       "      <td>0.183</td>\n",
       "      <td>0.00</td>\n",
       "      <td>0.0</td>\n",
       "      <td>4.37</td>\n",
       "      <td>0.05</td>\n",
       "      <td>#NUM!</td>\n",
       "    </tr>\n",
       "    <tr>\n",
       "      <th>7568</th>\n",
       "      <td>#NUM!</td>\n",
       "      <td>0.178</td>\n",
       "      <td>0.00</td>\n",
       "      <td>0.0</td>\n",
       "      <td>12.10</td>\n",
       "      <td>0.07</td>\n",
       "      <td>#NUM!</td>\n",
       "    </tr>\n",
       "    <tr>\n",
       "      <th>7890</th>\n",
       "      <td>#NUM!</td>\n",
       "      <td>0.088</td>\n",
       "      <td>0.57</td>\n",
       "      <td>0.0</td>\n",
       "      <td>9.57</td>\n",
       "      <td>0.02</td>\n",
       "      <td>#NUM!</td>\n",
       "    </tr>\n",
       "  </tbody>\n",
       "</table>\n",
       "</div>"
      ],
      "text/plain": [
       "     ammonia   lead  bacteria  viruses  nitrates  uranium is_safe\n",
       "7551   #NUM!  0.183      0.00      0.0      4.37     0.05   #NUM!\n",
       "7568   #NUM!  0.178      0.00      0.0     12.10     0.07   #NUM!\n",
       "7890   #NUM!  0.088      0.57      0.0      9.57     0.02   #NUM!"
      ]
     },
     "metadata": {},
     "execution_count": 24
    }
   ],
   "metadata": {}
  },
  {
   "cell_type": "code",
   "execution_count": 25,
   "source": [
    "df = df.drop(index=[7551,7568,7890], axis=0) ## We drop rows that contains #NUM! value in the is_safe column. drop is chosen because the affected row is little"
   ],
   "outputs": [],
   "metadata": {}
  },
  {
   "cell_type": "code",
   "execution_count": 26,
   "source": [
    "df['is_safe'].value_counts()"
   ],
   "outputs": [
    {
     "output_type": "execute_result",
     "data": {
      "text/plain": [
       "0    7084\n",
       "1     912\n",
       "Name: is_safe, dtype: int64"
      ]
     },
     "metadata": {},
     "execution_count": 26
    }
   ],
   "metadata": {}
  },
  {
   "cell_type": "code",
   "execution_count": 27,
   "source": [
    "df[['lead', 'is_safe']].describe(include='all')"
   ],
   "outputs": [
    {
     "output_type": "execute_result",
     "data": {
      "text/html": [
       "<div>\n",
       "<style scoped>\n",
       "    .dataframe tbody tr th:only-of-type {\n",
       "        vertical-align: middle;\n",
       "    }\n",
       "\n",
       "    .dataframe tbody tr th {\n",
       "        vertical-align: top;\n",
       "    }\n",
       "\n",
       "    .dataframe thead th {\n",
       "        text-align: right;\n",
       "    }\n",
       "</style>\n",
       "<table border=\"1\" class=\"dataframe\">\n",
       "  <thead>\n",
       "    <tr style=\"text-align: right;\">\n",
       "      <th></th>\n",
       "      <th>lead</th>\n",
       "      <th>is_safe</th>\n",
       "    </tr>\n",
       "  </thead>\n",
       "  <tbody>\n",
       "    <tr>\n",
       "      <th>count</th>\n",
       "      <td>7996.000000</td>\n",
       "      <td>7996</td>\n",
       "    </tr>\n",
       "    <tr>\n",
       "      <th>unique</th>\n",
       "      <td>NaN</td>\n",
       "      <td>2</td>\n",
       "    </tr>\n",
       "    <tr>\n",
       "      <th>top</th>\n",
       "      <td>NaN</td>\n",
       "      <td>0</td>\n",
       "    </tr>\n",
       "    <tr>\n",
       "      <th>freq</th>\n",
       "      <td>NaN</td>\n",
       "      <td>7084</td>\n",
       "    </tr>\n",
       "    <tr>\n",
       "      <th>mean</th>\n",
       "      <td>0.099431</td>\n",
       "      <td>NaN</td>\n",
       "    </tr>\n",
       "    <tr>\n",
       "      <th>std</th>\n",
       "      <td>0.058169</td>\n",
       "      <td>NaN</td>\n",
       "    </tr>\n",
       "    <tr>\n",
       "      <th>min</th>\n",
       "      <td>0.000000</td>\n",
       "      <td>NaN</td>\n",
       "    </tr>\n",
       "    <tr>\n",
       "      <th>25%</th>\n",
       "      <td>0.048000</td>\n",
       "      <td>NaN</td>\n",
       "    </tr>\n",
       "    <tr>\n",
       "      <th>50%</th>\n",
       "      <td>0.102000</td>\n",
       "      <td>NaN</td>\n",
       "    </tr>\n",
       "    <tr>\n",
       "      <th>75%</th>\n",
       "      <td>0.151000</td>\n",
       "      <td>NaN</td>\n",
       "    </tr>\n",
       "    <tr>\n",
       "      <th>max</th>\n",
       "      <td>0.200000</td>\n",
       "      <td>NaN</td>\n",
       "    </tr>\n",
       "  </tbody>\n",
       "</table>\n",
       "</div>"
      ],
      "text/plain": [
       "               lead is_safe\n",
       "count   7996.000000    7996\n",
       "unique          NaN       2\n",
       "top             NaN       0\n",
       "freq            NaN    7084\n",
       "mean       0.099431     NaN\n",
       "std        0.058169     NaN\n",
       "min        0.000000     NaN\n",
       "25%        0.048000     NaN\n",
       "50%        0.102000     NaN\n",
       "75%        0.151000     NaN\n",
       "max        0.200000     NaN"
      ]
     },
     "metadata": {},
     "execution_count": 27
    }
   ],
   "metadata": {}
  },
  {
   "cell_type": "code",
   "execution_count": 31,
   "source": [
    "df['is_safe']=df['is_safe'].astype(float) # Casting is_safe dtypes to float"
   ],
   "outputs": [],
   "metadata": {}
  },
  {
   "cell_type": "code",
   "execution_count": 49,
   "source": [
    "df['ammonia']=df['ammonia'].astype(float) # Casting ammonia dtypes to float"
   ],
   "outputs": [],
   "metadata": {}
  },
  {
   "cell_type": "code",
   "execution_count": 44,
   "source": [
    "df[['ammonia', 'lead', 'bacteria', 'viruses', 'nitrates', 'uranium', 'is_safe']].corr()"
   ],
   "outputs": [
    {
     "output_type": "execute_result",
     "data": {
      "text/html": [
       "<div>\n",
       "<style scoped>\n",
       "    .dataframe tbody tr th:only-of-type {\n",
       "        vertical-align: middle;\n",
       "    }\n",
       "\n",
       "    .dataframe tbody tr th {\n",
       "        vertical-align: top;\n",
       "    }\n",
       "\n",
       "    .dataframe thead th {\n",
       "        text-align: right;\n",
       "    }\n",
       "</style>\n",
       "<table border=\"1\" class=\"dataframe\">\n",
       "  <thead>\n",
       "    <tr style=\"text-align: right;\">\n",
       "      <th></th>\n",
       "      <th>ammonia</th>\n",
       "      <th>lead</th>\n",
       "      <th>bacteria</th>\n",
       "      <th>viruses</th>\n",
       "      <th>nitrates</th>\n",
       "      <th>uranium</th>\n",
       "      <th>is_safe</th>\n",
       "    </tr>\n",
       "  </thead>\n",
       "  <tbody>\n",
       "    <tr>\n",
       "      <th>ammonia</th>\n",
       "      <td>1.000000</td>\n",
       "      <td>-0.037065</td>\n",
       "      <td>0.063603</td>\n",
       "      <td>0.105856</td>\n",
       "      <td>0.006483</td>\n",
       "      <td>0.014635</td>\n",
       "      <td>-0.022919</td>\n",
       "    </tr>\n",
       "    <tr>\n",
       "      <th>lead</th>\n",
       "      <td>-0.037065</td>\n",
       "      <td>1.000000</td>\n",
       "      <td>-0.027179</td>\n",
       "      <td>0.017886</td>\n",
       "      <td>0.035095</td>\n",
       "      <td>-0.009372</td>\n",
       "      <td>-0.009970</td>\n",
       "    </tr>\n",
       "    <tr>\n",
       "      <th>bacteria</th>\n",
       "      <td>0.063603</td>\n",
       "      <td>-0.027179</td>\n",
       "      <td>1.000000</td>\n",
       "      <td>0.618535</td>\n",
       "      <td>-0.033993</td>\n",
       "      <td>0.045077</td>\n",
       "      <td>-0.022077</td>\n",
       "    </tr>\n",
       "    <tr>\n",
       "      <th>viruses</th>\n",
       "      <td>0.105856</td>\n",
       "      <td>0.017886</td>\n",
       "      <td>0.618535</td>\n",
       "      <td>1.000000</td>\n",
       "      <td>-0.044621</td>\n",
       "      <td>0.058473</td>\n",
       "      <td>-0.097040</td>\n",
       "    </tr>\n",
       "    <tr>\n",
       "      <th>nitrates</th>\n",
       "      <td>0.006483</td>\n",
       "      <td>0.035095</td>\n",
       "      <td>-0.033993</td>\n",
       "      <td>-0.044621</td>\n",
       "      <td>1.000000</td>\n",
       "      <td>0.000795</td>\n",
       "      <td>-0.072100</td>\n",
       "    </tr>\n",
       "    <tr>\n",
       "      <th>uranium</th>\n",
       "      <td>0.014635</td>\n",
       "      <td>-0.009372</td>\n",
       "      <td>0.045077</td>\n",
       "      <td>0.058473</td>\n",
       "      <td>0.000795</td>\n",
       "      <td>1.000000</td>\n",
       "      <td>-0.075619</td>\n",
       "    </tr>\n",
       "    <tr>\n",
       "      <th>is_safe</th>\n",
       "      <td>-0.022919</td>\n",
       "      <td>-0.009970</td>\n",
       "      <td>-0.022077</td>\n",
       "      <td>-0.097040</td>\n",
       "      <td>-0.072100</td>\n",
       "      <td>-0.075619</td>\n",
       "      <td>1.000000</td>\n",
       "    </tr>\n",
       "  </tbody>\n",
       "</table>\n",
       "</div>"
      ],
      "text/plain": [
       "           ammonia      lead  bacteria   viruses  nitrates   uranium   is_safe\n",
       "ammonia   1.000000 -0.037065  0.063603  0.105856  0.006483  0.014635 -0.022919\n",
       "lead     -0.037065  1.000000 -0.027179  0.017886  0.035095 -0.009372 -0.009970\n",
       "bacteria  0.063603 -0.027179  1.000000  0.618535 -0.033993  0.045077 -0.022077\n",
       "viruses   0.105856  0.017886  0.618535  1.000000 -0.044621  0.058473 -0.097040\n",
       "nitrates  0.006483  0.035095 -0.033993 -0.044621  1.000000  0.000795 -0.072100\n",
       "uranium   0.014635 -0.009372  0.045077  0.058473  0.000795  1.000000 -0.075619\n",
       "is_safe  -0.022919 -0.009970 -0.022077 -0.097040 -0.072100 -0.075619  1.000000"
      ]
     },
     "metadata": {},
     "execution_count": 44
    }
   ],
   "metadata": {}
  },
  {
   "cell_type": "markdown",
   "source": [
    "### The correlation between each feature to target is figured above. From the table we can conclude that 'viruses' have highest correlation to the target. the value is negative, meaning that the correlation is contradictive."
   ],
   "metadata": {}
  },
  {
   "cell_type": "markdown",
   "source": [
    "## Difining X and Y"
   ],
   "metadata": {}
  },
  {
   "cell_type": "code",
   "execution_count": 45,
   "source": [
    "X = df[['ammonia', 'lead', 'bacteria', 'viruses', 'nitrates', 'uranium']]\n",
    "y = df['is_safe']"
   ],
   "outputs": [],
   "metadata": {}
  },
  {
   "cell_type": "code",
   "execution_count": 46,
   "source": [
    "X"
   ],
   "outputs": [
    {
     "output_type": "execute_result",
     "data": {
      "text/html": [
       "<div>\n",
       "<style scoped>\n",
       "    .dataframe tbody tr th:only-of-type {\n",
       "        vertical-align: middle;\n",
       "    }\n",
       "\n",
       "    .dataframe tbody tr th {\n",
       "        vertical-align: top;\n",
       "    }\n",
       "\n",
       "    .dataframe thead th {\n",
       "        text-align: right;\n",
       "    }\n",
       "</style>\n",
       "<table border=\"1\" class=\"dataframe\">\n",
       "  <thead>\n",
       "    <tr style=\"text-align: right;\">\n",
       "      <th></th>\n",
       "      <th>ammonia</th>\n",
       "      <th>lead</th>\n",
       "      <th>bacteria</th>\n",
       "      <th>viruses</th>\n",
       "      <th>nitrates</th>\n",
       "      <th>uranium</th>\n",
       "    </tr>\n",
       "  </thead>\n",
       "  <tbody>\n",
       "    <tr>\n",
       "      <th>0</th>\n",
       "      <td>9.08</td>\n",
       "      <td>0.054</td>\n",
       "      <td>0.20</td>\n",
       "      <td>0.000</td>\n",
       "      <td>16.08</td>\n",
       "      <td>0.02</td>\n",
       "    </tr>\n",
       "    <tr>\n",
       "      <th>1</th>\n",
       "      <td>21.16</td>\n",
       "      <td>0.100</td>\n",
       "      <td>0.65</td>\n",
       "      <td>0.650</td>\n",
       "      <td>2.01</td>\n",
       "      <td>0.05</td>\n",
       "    </tr>\n",
       "    <tr>\n",
       "      <th>2</th>\n",
       "      <td>14.02</td>\n",
       "      <td>0.078</td>\n",
       "      <td>0.05</td>\n",
       "      <td>0.003</td>\n",
       "      <td>14.16</td>\n",
       "      <td>0.01</td>\n",
       "    </tr>\n",
       "    <tr>\n",
       "      <th>3</th>\n",
       "      <td>11.33</td>\n",
       "      <td>0.016</td>\n",
       "      <td>0.71</td>\n",
       "      <td>0.710</td>\n",
       "      <td>1.41</td>\n",
       "      <td>0.05</td>\n",
       "    </tr>\n",
       "    <tr>\n",
       "      <th>4</th>\n",
       "      <td>24.33</td>\n",
       "      <td>0.117</td>\n",
       "      <td>0.13</td>\n",
       "      <td>0.001</td>\n",
       "      <td>6.74</td>\n",
       "      <td>0.02</td>\n",
       "    </tr>\n",
       "    <tr>\n",
       "      <th>...</th>\n",
       "      <td>...</td>\n",
       "      <td>...</td>\n",
       "      <td>...</td>\n",
       "      <td>...</td>\n",
       "      <td>...</td>\n",
       "      <td>...</td>\n",
       "    </tr>\n",
       "    <tr>\n",
       "      <th>7994</th>\n",
       "      <td>7.78</td>\n",
       "      <td>0.197</td>\n",
       "      <td>0.00</td>\n",
       "      <td>0.000</td>\n",
       "      <td>14.29</td>\n",
       "      <td>0.03</td>\n",
       "    </tr>\n",
       "    <tr>\n",
       "      <th>7995</th>\n",
       "      <td>24.22</td>\n",
       "      <td>0.031</td>\n",
       "      <td>0.00</td>\n",
       "      <td>0.000</td>\n",
       "      <td>10.27</td>\n",
       "      <td>0.08</td>\n",
       "    </tr>\n",
       "    <tr>\n",
       "      <th>7996</th>\n",
       "      <td>6.85</td>\n",
       "      <td>0.182</td>\n",
       "      <td>0.00</td>\n",
       "      <td>0.000</td>\n",
       "      <td>15.92</td>\n",
       "      <td>0.05</td>\n",
       "    </tr>\n",
       "    <tr>\n",
       "      <th>7997</th>\n",
       "      <td>10.00</td>\n",
       "      <td>0.000</td>\n",
       "      <td>0.00</td>\n",
       "      <td>0.000</td>\n",
       "      <td>0.00</td>\n",
       "      <td>0.00</td>\n",
       "    </tr>\n",
       "    <tr>\n",
       "      <th>7998</th>\n",
       "      <td>6.85</td>\n",
       "      <td>0.182</td>\n",
       "      <td>0.00</td>\n",
       "      <td>0.000</td>\n",
       "      <td>15.92</td>\n",
       "      <td>0.05</td>\n",
       "    </tr>\n",
       "  </tbody>\n",
       "</table>\n",
       "<p>7996 rows × 6 columns</p>\n",
       "</div>"
      ],
      "text/plain": [
       "      ammonia   lead  bacteria  viruses  nitrates  uranium\n",
       "0        9.08  0.054      0.20    0.000     16.08     0.02\n",
       "1       21.16  0.100      0.65    0.650      2.01     0.05\n",
       "2       14.02  0.078      0.05    0.003     14.16     0.01\n",
       "3       11.33  0.016      0.71    0.710      1.41     0.05\n",
       "4       24.33  0.117      0.13    0.001      6.74     0.02\n",
       "...       ...    ...       ...      ...       ...      ...\n",
       "7994     7.78  0.197      0.00    0.000     14.29     0.03\n",
       "7995    24.22  0.031      0.00    0.000     10.27     0.08\n",
       "7996     6.85  0.182      0.00    0.000     15.92     0.05\n",
       "7997    10.00  0.000      0.00    0.000      0.00     0.00\n",
       "7998     6.85  0.182      0.00    0.000     15.92     0.05\n",
       "\n",
       "[7996 rows x 6 columns]"
      ]
     },
     "metadata": {},
     "execution_count": 46
    }
   ],
   "metadata": {}
  },
  {
   "cell_type": "markdown",
   "source": [
    "### Multicollinearity check"
   ],
   "metadata": {}
  },
  {
   "cell_type": "code",
   "execution_count": 47,
   "source": [
    "# Function to calculate VIF\n",
    "def calc_vif(X):\n",
    "    vif = pd.DataFrame()\n",
    "    vif['variables'] = X.columns\n",
    "    vif['VIF'] = [variance_inflation_factor(X.values, i) for i in range(X.shape[1])]\n",
    "    vif['Acceptable'] = np.where(vif.VIF < 4, 'Yes', 'No') \n",
    "    return (vif)"
   ],
   "outputs": [],
   "metadata": {}
  },
  {
   "cell_type": "code",
   "execution_count": 48,
   "source": [
    "calc_vif(X)"
   ],
   "outputs": [
    {
     "output_type": "execute_result",
     "data": {
      "text/html": [
       "<div>\n",
       "<style scoped>\n",
       "    .dataframe tbody tr th:only-of-type {\n",
       "        vertical-align: middle;\n",
       "    }\n",
       "\n",
       "    .dataframe tbody tr th {\n",
       "        vertical-align: top;\n",
       "    }\n",
       "\n",
       "    .dataframe thead th {\n",
       "        text-align: right;\n",
       "    }\n",
       "</style>\n",
       "<table border=\"1\" class=\"dataframe\">\n",
       "  <thead>\n",
       "    <tr style=\"text-align: right;\">\n",
       "      <th></th>\n",
       "      <th>variables</th>\n",
       "      <th>VIF</th>\n",
       "      <th>Acceptable</th>\n",
       "    </tr>\n",
       "  </thead>\n",
       "  <tbody>\n",
       "    <tr>\n",
       "      <th>0</th>\n",
       "      <td>ammonia</td>\n",
       "      <td>2.961646</td>\n",
       "      <td>Yes</td>\n",
       "    </tr>\n",
       "    <tr>\n",
       "      <th>1</th>\n",
       "      <td>lead</td>\n",
       "      <td>3.041048</td>\n",
       "      <td>Yes</td>\n",
       "    </tr>\n",
       "    <tr>\n",
       "      <th>2</th>\n",
       "      <td>bacteria</td>\n",
       "      <td>3.056452</td>\n",
       "      <td>Yes</td>\n",
       "    </tr>\n",
       "    <tr>\n",
       "      <th>3</th>\n",
       "      <td>viruses</td>\n",
       "      <td>2.875015</td>\n",
       "      <td>Yes</td>\n",
       "    </tr>\n",
       "    <tr>\n",
       "      <th>4</th>\n",
       "      <td>nitrates</td>\n",
       "      <td>3.208677</td>\n",
       "      <td>Yes</td>\n",
       "    </tr>\n",
       "    <tr>\n",
       "      <th>5</th>\n",
       "      <td>uranium</td>\n",
       "      <td>3.033962</td>\n",
       "      <td>Yes</td>\n",
       "    </tr>\n",
       "  </tbody>\n",
       "</table>\n",
       "</div>"
      ],
      "text/plain": [
       "  variables       VIF Acceptable\n",
       "0   ammonia  2.961646        Yes\n",
       "1      lead  3.041048        Yes\n",
       "2  bacteria  3.056452        Yes\n",
       "3   viruses  2.875015        Yes\n",
       "4  nitrates  3.208677        Yes\n",
       "5   uranium  3.033962        Yes"
      ]
     },
     "metadata": {},
     "execution_count": 48
    }
   ],
   "metadata": {}
  },
  {
   "cell_type": "markdown",
   "source": [
    "#### All variables have VIF value less than 4 whch is good"
   ],
   "metadata": {}
  },
  {
   "cell_type": "markdown",
   "source": [
    "## Data Splitting"
   ],
   "metadata": {}
  },
  {
   "cell_type": "code",
   "execution_count": 50,
   "source": [
    "X_train, X_test, y_train, y_test = train_test_split(\n",
    "    X,\n",
    "    y,\n",
    "    stratify=y,\n",
    "    random_state = 0,\n",
    "    test_size= 0.2\n",
    ")"
   ],
   "outputs": [],
   "metadata": {}
  },
  {
   "cell_type": "code",
   "execution_count": 53,
   "source": [
    "print('raw data shape is;',X.shape)\n",
    "print('X_train data shape is;', X_train.shape)\n",
    "print('X_test raw data shape is;',X_test.shape)"
   ],
   "outputs": [
    {
     "output_type": "stream",
     "name": "stdout",
     "text": [
      "raw data shape is; (7996, 6)\n",
      "X_train data shape is; (6396, 6)\n",
      "X_test raw data shape is; (1600, 6)\n"
     ]
    }
   ],
   "metadata": {}
  },
  {
   "cell_type": "markdown",
   "source": [
    "## **Logistic regression modelling using statsmodels**"
   ],
   "metadata": {}
  },
  {
   "cell_type": "code",
   "execution_count": 54,
   "source": [
    "sm_logit = sm.Logit(y_train, sm.add_constant(X_train))\n",
    "result = sm_logit.fit()"
   ],
   "outputs": [
    {
     "output_type": "stream",
     "name": "stdout",
     "text": [
      "Optimization terminated successfully.\n",
      "         Current function value: 0.343578\n",
      "         Iterations 7\n"
     ]
    }
   ],
   "metadata": {}
  },
  {
   "cell_type": "code",
   "execution_count": 55,
   "source": [
    "print(result.summary())"
   ],
   "outputs": [
    {
     "output_type": "stream",
     "name": "stdout",
     "text": [
      "                           Logit Regression Results                           \n",
      "==============================================================================\n",
      "Dep. Variable:                is_safe   No. Observations:                 6396\n",
      "Model:                          Logit   Df Residuals:                     6389\n",
      "Method:                           MLE   Df Model:                            6\n",
      "Date:                Tue, 12 Oct 2021   Pseudo R-squ.:                 0.03237\n",
      "Time:                        01:29:20   Log-Likelihood:                -2197.5\n",
      "converged:                       True   LL-Null:                       -2271.0\n",
      "Covariance Type:            nonrobust   LLR p-value:                 3.284e-29\n",
      "==============================================================================\n",
      "                 coef    std err          z      P>|z|      [0.025      0.975]\n",
      "------------------------------------------------------------------------------\n",
      "const         -1.0644      0.138     -7.727      0.000      -1.334      -0.794\n",
      "ammonia       -0.0038      0.005     -0.840      0.401      -0.013       0.005\n",
      "lead          -0.3611      0.691     -0.522      0.601      -1.716       0.994\n",
      "bacteria       0.7694      0.181      4.261      0.000       0.415       1.123\n",
      "viruses       -1.2544      0.159     -7.881      0.000      -1.566      -0.942\n",
      "nitrates      -0.0420      0.007     -5.842      0.000      -0.056      -0.028\n",
      "uranium       -9.2263      1.507     -6.124      0.000     -12.179      -6.274\n",
      "==============================================================================\n"
     ]
    }
   ],
   "metadata": {}
  },
  {
   "cell_type": "code",
   "execution_count": 57,
   "source": [
    "df.describe().loc[['min', 'max']][['ammonia', 'lead', 'bacteria','viruses','nitrates','uranium']]"
   ],
   "outputs": [
    {
     "output_type": "execute_result",
     "data": {
      "text/html": [
       "<div>\n",
       "<style scoped>\n",
       "    .dataframe tbody tr th:only-of-type {\n",
       "        vertical-align: middle;\n",
       "    }\n",
       "\n",
       "    .dataframe tbody tr th {\n",
       "        vertical-align: top;\n",
       "    }\n",
       "\n",
       "    .dataframe thead th {\n",
       "        text-align: right;\n",
       "    }\n",
       "</style>\n",
       "<table border=\"1\" class=\"dataframe\">\n",
       "  <thead>\n",
       "    <tr style=\"text-align: right;\">\n",
       "      <th></th>\n",
       "      <th>ammonia</th>\n",
       "      <th>lead</th>\n",
       "      <th>bacteria</th>\n",
       "      <th>viruses</th>\n",
       "      <th>nitrates</th>\n",
       "      <th>uranium</th>\n",
       "    </tr>\n",
       "  </thead>\n",
       "  <tbody>\n",
       "    <tr>\n",
       "      <th>min</th>\n",
       "      <td>-0.08</td>\n",
       "      <td>0.0</td>\n",
       "      <td>0.0</td>\n",
       "      <td>0.0</td>\n",
       "      <td>0.00</td>\n",
       "      <td>0.00</td>\n",
       "    </tr>\n",
       "    <tr>\n",
       "      <th>max</th>\n",
       "      <td>29.84</td>\n",
       "      <td>0.2</td>\n",
       "      <td>1.0</td>\n",
       "      <td>1.0</td>\n",
       "      <td>19.83</td>\n",
       "      <td>0.09</td>\n",
       "    </tr>\n",
       "  </tbody>\n",
       "</table>\n",
       "</div>"
      ],
      "text/plain": [
       "     ammonia  lead  bacteria  viruses  nitrates  uranium\n",
       "min    -0.08   0.0       0.0      0.0      0.00     0.00\n",
       "max    29.84   0.2       1.0      1.0     19.83     0.09"
      ]
     },
     "metadata": {},
     "execution_count": 57
    }
   ],
   "metadata": {}
  },
  {
   "cell_type": "markdown",
   "source": [
    "**The model should calculate is the quality of the water is safe or not**\n",
    "\n",
    "1. LLR p-value = 3.284e-29 = 0.0000...3284\n",
    "\n",
    "   - LLR p-value < 0.05, we reject the H0.  Can be say that there is minimum one variable that significantly affect the quality of the water.\n",
    "<br><br>\n",
    "\n",
    "2. P>|z| (Wald test)\n",
    "\n",
    "   - const = 0.000. p-value < 0.05, reject H0. It refers to that the model require intercept.\n",
    "   - ammonia = 0.401. p-value > 0.05, failed to reject H0. It refers to that the amount of ammonia is not significantly affected the quality of the water.\n",
    "   - lead = 0.601. p-value > 0.05, failed to reject H0. It refers to that the amount of lead is not significantly affected the quality of the water.\n",
    "   - bacteria = 0.000. p-value < 0.05, reject H0. It refers to that the amount of bacteria significantly affected the quality of the water in positive manner(the higher the value of bacteria, the higher quality of the water).\n",
    "   - viruses = 0.000. p-value < 0.05, reject H0. It refers to that the amount of viruses significantly affected the quality of the water in negative manner(the higher the value of ammonia, the lower quality of the water).\n",
    "   - nitrates = 0.000. p-value > 0.05, reject H0. It refers to that the amount of nitrates significantly affected the quality of the water in negative manner(the higher the value of nitrates, the lower quality of the water).\n",
    "   - uranium = 0.000. p-value > 0.05, reject H0. It refers to that the amount of uranium significantly affected the quality of the water in negative manner(the higher the value of uranium, the lower quality of the water).\n",
    "<br><br>\n",
    "\n",
    "3. Coef\n",
    "   - const = 1.0644\n",
    "   - ammonia = -0.0038 (should not be interpreted because the significance to the quality of water is low)\n",
    "   - lead = -0.3611\n",
    "   - bacteria = 0.7694 \n",
    "   - viruses = -1.2544\n",
    "   - nitrates = -0.0420\n",
    "   - uranium = -9.2263"
   ],
   "metadata": {}
  },
  {
   "cell_type": "markdown",
   "source": [
    "## ***Coef intepretation using Odd Ratio (OR)***\n",
    "\n",
    "OR = exp(beta(c-a))\n",
    "\n",
    "- If OR > 1, c > a: success rate increase If Xi increase.\n",
    "- If OR < 1, c > a: success rate decrease If Xi decrease."
   ],
   "metadata": {}
  },
  {
   "cell_type": "markdown",
   "source": [
    "### 1. lead OR intepretation"
   ],
   "metadata": {}
  },
  {
   "cell_type": "code",
   "execution_count": 59,
   "source": [
    "c = 0.2\n",
    "a = 0.1 # chosse a and c value from range 0-2 with c > a.\n",
    "Beta = -0.3611\n",
    "\n",
    "OR_pclass = np.exp(Beta*(c-a))\n",
    "print('OR_pclass =', OR_pclass)\n",
    "\n",
    "OR_pclass_interpretation = 1/OR_pclass\n",
    "print('OR_pclass_interpretation =', OR_pclass_interpretation)"
   ],
   "outputs": [
    {
     "output_type": "stream",
     "name": "stdout",
     "text": [
      "OR_pclass = 0.9645341888866997\n",
      "OR_pclass_interpretation = 1.0367698849060356\n"
     ]
    }
   ],
   "metadata": {}
  },
  {
   "cell_type": "markdown",
   "source": [
    "- OR_pclass < 1, success rate increased when Xi (lead) deceased (0.2 to 0.1).\n",
    "- OR_pclass < 1, water containing lead value of 0.1, can affect the better quality of water for 1.036% than the water containing lead value of 0.2."
   ],
   "metadata": {}
  },
  {
   "cell_type": "markdown",
   "source": [
    "### 2. bacteria OR intepretation"
   ],
   "metadata": {}
  },
  {
   "cell_type": "code",
   "execution_count": 60,
   "source": [
    "c = 1\n",
    "a = 0 \n",
    "Beta = 0.7694\n",
    "\n",
    "OR_pclass = np.exp(Beta*(c-a))\n",
    "print('OR_pclass =', OR_pclass)\n",
    "\n",
    "OR_pclass_interpretation = 1/OR_pclass\n",
    "print('OR_pclass_interpretation =', OR_pclass_interpretation)"
   ],
   "outputs": [
    {
     "output_type": "stream",
     "name": "stdout",
     "text": [
      "OR_pclass = 2.1584707827128295\n",
      "OR_pclass_interpretation = 0.4632909595112381\n"
     ]
    }
   ],
   "metadata": {}
  },
  {
   "cell_type": "markdown",
   "source": [
    "- OR_pclass > 1, success rate increased when Xi (bacteria) increased (0 to 1).\n",
    "- OR_pclass > 1, water containing bacteria value of 1, can affect the better quality of water for 0.46% than the water containing bacteria value of 0."
   ],
   "metadata": {}
  },
  {
   "cell_type": "markdown",
   "source": [
    "### 3. viruses OR intepretation"
   ],
   "metadata": {}
  },
  {
   "cell_type": "code",
   "execution_count": 61,
   "source": [
    "c = 1\n",
    "a = 0 \n",
    "Beta = -1.2544\n",
    "\n",
    "OR_pclass = np.exp(Beta*(c-a))\n",
    "print('OR_pclass =', OR_pclass)\n",
    "\n",
    "OR_pclass_interpretation = 1/OR_pclass\n",
    "print('OR_pclass_interpretation =', OR_pclass_interpretation)"
   ],
   "outputs": [
    {
     "output_type": "stream",
     "name": "stdout",
     "text": [
      "OR_pclass = 0.2852469450573052\n",
      "OR_pclass_interpretation = 3.505734302602621\n"
     ]
    }
   ],
   "metadata": {}
  },
  {
   "cell_type": "markdown",
   "source": [
    "- OR_pclass < 1, success rate increased when Xi (viruses) deceased (1 to 0).\n",
    "- OR_pclass < 1, water containing viruses value of 0, can affect the better quality of water by 3.50% than the water containing viruses value of 1."
   ],
   "metadata": {}
  },
  {
   "cell_type": "markdown",
   "source": [
    "### 4. nitrates OR intepretation"
   ],
   "metadata": {}
  },
  {
   "cell_type": "code",
   "execution_count": 62,
   "source": [
    "c = 6\n",
    "a = 3 \n",
    "Beta = -0.0420\n",
    "\n",
    "OR_pclass = np.exp(Beta*(c-a))\n",
    "print('OR_pclass =', OR_pclass)\n",
    "\n",
    "OR_pclass_interpretation = 1/OR_pclass\n",
    "print('OR_pclass_interpretation =', OR_pclass_interpretation)"
   ],
   "outputs": [
    {
     "output_type": "stream",
     "name": "stdout",
     "text": [
      "OR_pclass = 0.8816148467834161\n",
      "OR_pclass_interpretation = 1.1342821682830249\n"
     ]
    }
   ],
   "metadata": {}
  },
  {
   "cell_type": "markdown",
   "source": [
    "- OR_pclass < 1, success rate increased when Xi (nitrates) deceased (6 to 3).\n",
    "- OR_pclass < 1, water containing nitates value of 3, can affect the better quality of water by 1.13% than the water containing nitrates value of 6."
   ],
   "metadata": {}
  },
  {
   "cell_type": "markdown",
   "source": [
    "### 5. uranium OR intepretation"
   ],
   "metadata": {}
  },
  {
   "cell_type": "code",
   "execution_count": 63,
   "source": [
    "c = 0.09\n",
    "a = 0.03\n",
    "Beta = -9.2263\n",
    "\n",
    "OR_pclass = np.exp(Beta*(c-a))\n",
    "print('OR_pclass =', OR_pclass)\n",
    "\n",
    "OR_pclass_interpretation = 1/OR_pclass\n",
    "print('OR_pclass_interpretation =', OR_pclass_interpretation)"
   ],
   "outputs": [
    {
     "output_type": "stream",
     "name": "stdout",
     "text": [
      "OR_pclass = 0.5748891726382371\n",
      "OR_pclass_interpretation = 1.7394657050347235\n"
     ]
    }
   ],
   "metadata": {}
  },
  {
   "cell_type": "markdown",
   "source": [
    "- OR_pclass < 1, success rate increased when Xi (uranium) deceased (0.09 to 0.03).\n",
    "- OR_pclass < 1, water containing uranium value of 0.03, can affect the better quality of water by 1.73% than the water containing uranium value of 0.09."
   ],
   "metadata": {}
  },
  {
   "cell_type": "markdown",
   "source": [
    "### Validate the model using test set"
   ],
   "metadata": {}
  },
  {
   "cell_type": "code",
   "execution_count": 65,
   "source": [
    "y_predict_proba = result.predict(sm.add_constant(X_test))\n",
    "y_predict_class = np.where(y_predict_proba > .5, 1, 0)"
   ],
   "outputs": [],
   "metadata": {}
  },
  {
   "cell_type": "code",
   "execution_count": 66,
   "source": [
    "y_predict_proba"
   ],
   "outputs": [
    {
     "output_type": "execute_result",
     "data": {
      "text/plain": [
       "6573    0.104260\n",
       "6590    0.053403\n",
       "639     0.087808\n",
       "3947    0.144735\n",
       "6539    0.080900\n",
       "          ...   \n",
       "3914    0.123151\n",
       "4066    0.073580\n",
       "5653    0.155686\n",
       "515     0.161720\n",
       "5690    0.106459\n",
       "Length: 1600, dtype: float64"
      ]
     },
     "metadata": {},
     "execution_count": 66
    }
   ],
   "metadata": {}
  },
  {
   "cell_type": "markdown",
   "source": [
    "### Evaluation metrics"
   ],
   "metadata": {}
  },
  {
   "cell_type": "code",
   "execution_count": 67,
   "source": [
    "print('Model accuracy score in the test set:', accuracy_score(y_test, y_predict_class))"
   ],
   "outputs": [
    {
     "output_type": "stream",
     "name": "stdout",
     "text": [
      "Model accuracy score in the test set: 0.88625\n"
     ]
    }
   ],
   "metadata": {}
  },
  {
   "cell_type": "markdown",
   "source": [
    "##### From the accuracy score we can conclude that from 100 sample of water test using model, 88% sample will predicted correctly(is_safe or not)."
   ],
   "metadata": {}
  },
  {
   "cell_type": "markdown",
   "source": [
    "## Check the accuracy of the model using sklearn"
   ],
   "metadata": {}
  },
  {
   "cell_type": "code",
   "execution_count": 68,
   "source": [
    "from sklearn.linear_model import LogisticRegression"
   ],
   "outputs": [],
   "metadata": {}
  },
  {
   "cell_type": "code",
   "execution_count": 69,
   "source": [
    "model = LogisticRegression()\n",
    "model.fit(X_train, y_train)"
   ],
   "outputs": [
    {
     "output_type": "execute_result",
     "data": {
      "text/plain": [
       "LogisticRegression()"
      ]
     },
     "metadata": {},
     "execution_count": 69
    }
   ],
   "metadata": {}
  },
  {
   "cell_type": "code",
   "execution_count": 70,
   "source": [
    "accuracy_score(y_test, model.predict(X_test))"
   ],
   "outputs": [
    {
     "output_type": "execute_result",
     "data": {
      "text/plain": [
       "0.88625"
      ]
     },
     "metadata": {},
     "execution_count": 70
    }
   ],
   "metadata": {}
  },
  {
   "cell_type": "markdown",
   "source": [
    "##### In this test, modelling using both sklearn and statsmodel resulting in the same score of 88%"
   ],
   "metadata": {}
  }
 ],
 "metadata": {
  "orig_nbformat": 4,
  "language_info": {
   "name": "python",
   "version": "3.8.8",
   "mimetype": "text/x-python",
   "codemirror_mode": {
    "name": "ipython",
    "version": 3
   },
   "pygments_lexer": "ipython3",
   "nbconvert_exporter": "python",
   "file_extension": ".py"
  },
  "kernelspec": {
   "name": "python3",
   "display_name": "Python 3.8.8 64-bit ('base': conda)"
  },
  "interpreter": {
   "hash": "d576d55fe44f2ddc552bc9abf20ede86328697013332304133c65baac06671ee"
  }
 },
 "nbformat": 4,
 "nbformat_minor": 2
}